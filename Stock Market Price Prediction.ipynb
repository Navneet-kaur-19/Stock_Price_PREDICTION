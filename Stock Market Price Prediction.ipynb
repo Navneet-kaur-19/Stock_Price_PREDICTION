{
 "cells": [
  {
   "cell_type": "code",
   "execution_count": null,
   "id": "b39bcd95",
   "metadata": {},
   "outputs": [],
   "source": [
    "#STOCK MARKET PRICE OF APPLE SHARE PREDICTION"
   ]
  },
  {
   "cell_type": "code",
   "execution_count": 359,
   "id": "48c6e558",
   "metadata": {},
   "outputs": [],
   "source": [
    "import pandas as pd\n",
    "import numpy as np\n",
    "from datetime import datetime\n",
    "import matplotlib.pyplot as plt\n",
    "import matplotlib.dates as mdates"
   ]
  },
  {
   "cell_type": "code",
   "execution_count": 360,
   "id": "d431957d",
   "metadata": {},
   "outputs": [
    {
     "name": "stdout",
     "output_type": "stream",
     "text": [
      "[*********************100%***********************]  1 of 1 completed\n"
     ]
    },
    {
     "data": {
      "text/html": [
       "<div>\n",
       "<style scoped>\n",
       "    .dataframe tbody tr th:only-of-type {\n",
       "        vertical-align: middle;\n",
       "    }\n",
       "\n",
       "    .dataframe tbody tr th {\n",
       "        vertical-align: top;\n",
       "    }\n",
       "\n",
       "    .dataframe thead th {\n",
       "        text-align: right;\n",
       "    }\n",
       "</style>\n",
       "<table border=\"1\" class=\"dataframe\">\n",
       "  <thead>\n",
       "    <tr style=\"text-align: right;\">\n",
       "      <th></th>\n",
       "      <th>Open</th>\n",
       "      <th>High</th>\n",
       "      <th>Low</th>\n",
       "      <th>Close</th>\n",
       "      <th>Adj Close</th>\n",
       "      <th>Volume</th>\n",
       "    </tr>\n",
       "    <tr>\n",
       "      <th>Date</th>\n",
       "      <th></th>\n",
       "      <th></th>\n",
       "      <th></th>\n",
       "      <th></th>\n",
       "      <th></th>\n",
       "      <th></th>\n",
       "    </tr>\n",
       "  </thead>\n",
       "  <tbody>\n",
       "    <tr>\n",
       "      <th>2022-09-20</th>\n",
       "      <td>153.399994</td>\n",
       "      <td>158.080002</td>\n",
       "      <td>153.080002</td>\n",
       "      <td>156.899994</td>\n",
       "      <td>155.974686</td>\n",
       "      <td>107689800</td>\n",
       "    </tr>\n",
       "    <tr>\n",
       "      <th>2022-09-21</th>\n",
       "      <td>157.339996</td>\n",
       "      <td>158.740005</td>\n",
       "      <td>153.600006</td>\n",
       "      <td>153.720001</td>\n",
       "      <td>152.813461</td>\n",
       "      <td>101696800</td>\n",
       "    </tr>\n",
       "    <tr>\n",
       "      <th>2022-09-22</th>\n",
       "      <td>152.380005</td>\n",
       "      <td>154.470001</td>\n",
       "      <td>150.910004</td>\n",
       "      <td>152.740005</td>\n",
       "      <td>151.839233</td>\n",
       "      <td>86652500</td>\n",
       "    </tr>\n",
       "    <tr>\n",
       "      <th>2022-09-23</th>\n",
       "      <td>151.190002</td>\n",
       "      <td>151.470001</td>\n",
       "      <td>148.559998</td>\n",
       "      <td>150.429993</td>\n",
       "      <td>149.542847</td>\n",
       "      <td>96029900</td>\n",
       "    </tr>\n",
       "    <tr>\n",
       "      <th>2022-09-26</th>\n",
       "      <td>149.660004</td>\n",
       "      <td>153.770004</td>\n",
       "      <td>149.639999</td>\n",
       "      <td>150.770004</td>\n",
       "      <td>149.880859</td>\n",
       "      <td>93339400</td>\n",
       "    </tr>\n",
       "    <tr>\n",
       "      <th>...</th>\n",
       "      <td>...</td>\n",
       "      <td>...</td>\n",
       "      <td>...</td>\n",
       "      <td>...</td>\n",
       "      <td>...</td>\n",
       "      <td>...</td>\n",
       "    </tr>\n",
       "    <tr>\n",
       "      <th>2023-09-12</th>\n",
       "      <td>179.490005</td>\n",
       "      <td>180.130005</td>\n",
       "      <td>174.820007</td>\n",
       "      <td>176.300003</td>\n",
       "      <td>176.300003</td>\n",
       "      <td>90370200</td>\n",
       "    </tr>\n",
       "    <tr>\n",
       "      <th>2023-09-13</th>\n",
       "      <td>176.509995</td>\n",
       "      <td>177.300003</td>\n",
       "      <td>173.979996</td>\n",
       "      <td>174.210007</td>\n",
       "      <td>174.210007</td>\n",
       "      <td>84267900</td>\n",
       "    </tr>\n",
       "    <tr>\n",
       "      <th>2023-09-14</th>\n",
       "      <td>174.000000</td>\n",
       "      <td>176.100006</td>\n",
       "      <td>173.580002</td>\n",
       "      <td>175.740005</td>\n",
       "      <td>175.740005</td>\n",
       "      <td>60895800</td>\n",
       "    </tr>\n",
       "    <tr>\n",
       "      <th>2023-09-15</th>\n",
       "      <td>176.479996</td>\n",
       "      <td>176.500000</td>\n",
       "      <td>173.820007</td>\n",
       "      <td>175.009995</td>\n",
       "      <td>175.009995</td>\n",
       "      <td>109205100</td>\n",
       "    </tr>\n",
       "    <tr>\n",
       "      <th>2023-09-18</th>\n",
       "      <td>176.479996</td>\n",
       "      <td>179.380005</td>\n",
       "      <td>176.169998</td>\n",
       "      <td>177.970001</td>\n",
       "      <td>177.970001</td>\n",
       "      <td>67257600</td>\n",
       "    </tr>\n",
       "  </tbody>\n",
       "</table>\n",
       "<p>250 rows × 6 columns</p>\n",
       "</div>"
      ],
      "text/plain": [
       "                  Open        High         Low       Close   Adj Close  \\\n",
       "Date                                                                     \n",
       "2022-09-20  153.399994  158.080002  153.080002  156.899994  155.974686   \n",
       "2022-09-21  157.339996  158.740005  153.600006  153.720001  152.813461   \n",
       "2022-09-22  152.380005  154.470001  150.910004  152.740005  151.839233   \n",
       "2022-09-23  151.190002  151.470001  148.559998  150.429993  149.542847   \n",
       "2022-09-26  149.660004  153.770004  149.639999  150.770004  149.880859   \n",
       "...                ...         ...         ...         ...         ...   \n",
       "2023-09-12  179.490005  180.130005  174.820007  176.300003  176.300003   \n",
       "2023-09-13  176.509995  177.300003  173.979996  174.210007  174.210007   \n",
       "2023-09-14  174.000000  176.100006  173.580002  175.740005  175.740005   \n",
       "2023-09-15  176.479996  176.500000  173.820007  175.009995  175.009995   \n",
       "2023-09-18  176.479996  179.380005  176.169998  177.970001  177.970001   \n",
       "\n",
       "               Volume  \n",
       "Date                   \n",
       "2022-09-20  107689800  \n",
       "2022-09-21  101696800  \n",
       "2022-09-22   86652500  \n",
       "2022-09-23   96029900  \n",
       "2022-09-26   93339400  \n",
       "...               ...  \n",
       "2023-09-12   90370200  \n",
       "2023-09-13   84267900  \n",
       "2023-09-14   60895800  \n",
       "2023-09-15  109205100  \n",
       "2023-09-18   67257600  \n",
       "\n",
       "[250 rows x 6 columns]"
      ]
     },
     "execution_count": 360,
     "metadata": {},
     "output_type": "execute_result"
    }
   ],
   "source": [
    "import yfinance as yf\n",
    "start_date = datetime(2022 ,9 , 20)\n",
    "end_date = datetime(2023 , 9 ,19)\n",
    "data = yf.download('AAPL' , start = start_date , end = end_date)\n",
    "data"
   ]
  },
  {
   "cell_type": "code",
   "execution_count": 361,
   "id": "c8bbb7f4",
   "metadata": {},
   "outputs": [
    {
     "name": "stdout",
     "output_type": "stream",
     "text": [
      "<class 'pandas.core.frame.DataFrame'>\n",
      "DatetimeIndex: 250 entries, 2022-09-20 to 2023-09-18\n",
      "Data columns (total 6 columns):\n",
      " #   Column     Non-Null Count  Dtype  \n",
      "---  ------     --------------  -----  \n",
      " 0   Open       250 non-null    float64\n",
      " 1   High       250 non-null    float64\n",
      " 2   Low        250 non-null    float64\n",
      " 3   Close      250 non-null    float64\n",
      " 4   Adj Close  250 non-null    float64\n",
      " 5   Volume     250 non-null    int64  \n",
      "dtypes: float64(5), int64(1)\n",
      "memory usage: 13.7 KB\n"
     ]
    }
   ],
   "source": [
    "data.info()"
   ]
  },
  {
   "cell_type": "code",
   "execution_count": 362,
   "id": "8693b934",
   "metadata": {},
   "outputs": [
    {
     "data": {
      "text/plain": [
       "(250, 6)"
      ]
     },
     "execution_count": 362,
     "metadata": {},
     "output_type": "execute_result"
    }
   ],
   "source": [
    "data.shape"
   ]
  },
  {
   "cell_type": "code",
   "execution_count": 363,
   "id": "8552aeb0",
   "metadata": {
    "scrolled": true
   },
   "outputs": [
    {
     "data": {
      "text/html": [
       "<div>\n",
       "<style scoped>\n",
       "    .dataframe tbody tr th:only-of-type {\n",
       "        vertical-align: middle;\n",
       "    }\n",
       "\n",
       "    .dataframe tbody tr th {\n",
       "        vertical-align: top;\n",
       "    }\n",
       "\n",
       "    .dataframe thead th {\n",
       "        text-align: right;\n",
       "    }\n",
       "</style>\n",
       "<table border=\"1\" class=\"dataframe\">\n",
       "  <thead>\n",
       "    <tr style=\"text-align: right;\">\n",
       "      <th></th>\n",
       "      <th>Open</th>\n",
       "      <th>High</th>\n",
       "      <th>Low</th>\n",
       "      <th>Close</th>\n",
       "      <th>Adj Close</th>\n",
       "      <th>Volume</th>\n",
       "    </tr>\n",
       "  </thead>\n",
       "  <tbody>\n",
       "    <tr>\n",
       "      <th>count</th>\n",
       "      <td>250.000000</td>\n",
       "      <td>250.000000</td>\n",
       "      <td>250.000000</td>\n",
       "      <td>250.000000</td>\n",
       "      <td>250.000000</td>\n",
       "      <td>2.500000e+02</td>\n",
       "    </tr>\n",
       "    <tr>\n",
       "      <th>mean</th>\n",
       "      <td>161.000401</td>\n",
       "      <td>162.762720</td>\n",
       "      <td>159.427600</td>\n",
       "      <td>161.165960</td>\n",
       "      <td>160.722669</td>\n",
       "      <td>6.876669e+07</td>\n",
       "    </tr>\n",
       "    <tr>\n",
       "      <th>std</th>\n",
       "      <td>19.156966</td>\n",
       "      <td>18.904436</td>\n",
       "      <td>19.396505</td>\n",
       "      <td>19.131984</td>\n",
       "      <td>19.314871</td>\n",
       "      <td>2.315654e+07</td>\n",
       "    </tr>\n",
       "    <tr>\n",
       "      <th>min</th>\n",
       "      <td>126.010002</td>\n",
       "      <td>127.769997</td>\n",
       "      <td>124.169998</td>\n",
       "      <td>125.019997</td>\n",
       "      <td>124.488876</td>\n",
       "      <td>3.145820e+07</td>\n",
       "    </tr>\n",
       "    <tr>\n",
       "      <th>25%</th>\n",
       "      <td>145.812500</td>\n",
       "      <td>147.320004</td>\n",
       "      <td>143.957497</td>\n",
       "      <td>145.915001</td>\n",
       "      <td>145.256302</td>\n",
       "      <td>5.126040e+07</td>\n",
       "    </tr>\n",
       "    <tr>\n",
       "      <th>50%</th>\n",
       "      <td>157.330002</td>\n",
       "      <td>158.615005</td>\n",
       "      <td>155.129997</td>\n",
       "      <td>157.524994</td>\n",
       "      <td>157.095268</td>\n",
       "      <td>6.416920e+07</td>\n",
       "    </tr>\n",
       "    <tr>\n",
       "      <th>75%</th>\n",
       "      <td>177.619999</td>\n",
       "      <td>179.454998</td>\n",
       "      <td>176.565006</td>\n",
       "      <td>177.732494</td>\n",
       "      <td>177.575150</td>\n",
       "      <td>8.038688e+07</td>\n",
       "    </tr>\n",
       "    <tr>\n",
       "      <th>max</th>\n",
       "      <td>196.240005</td>\n",
       "      <td>198.229996</td>\n",
       "      <td>195.279999</td>\n",
       "      <td>196.449997</td>\n",
       "      <td>196.185074</td>\n",
       "      <td>1.647624e+08</td>\n",
       "    </tr>\n",
       "  </tbody>\n",
       "</table>\n",
       "</div>"
      ],
      "text/plain": [
       "             Open        High         Low       Close   Adj Close  \\\n",
       "count  250.000000  250.000000  250.000000  250.000000  250.000000   \n",
       "mean   161.000401  162.762720  159.427600  161.165960  160.722669   \n",
       "std     19.156966   18.904436   19.396505   19.131984   19.314871   \n",
       "min    126.010002  127.769997  124.169998  125.019997  124.488876   \n",
       "25%    145.812500  147.320004  143.957497  145.915001  145.256302   \n",
       "50%    157.330002  158.615005  155.129997  157.524994  157.095268   \n",
       "75%    177.619999  179.454998  176.565006  177.732494  177.575150   \n",
       "max    196.240005  198.229996  195.279999  196.449997  196.185074   \n",
       "\n",
       "             Volume  \n",
       "count  2.500000e+02  \n",
       "mean   6.876669e+07  \n",
       "std    2.315654e+07  \n",
       "min    3.145820e+07  \n",
       "25%    5.126040e+07  \n",
       "50%    6.416920e+07  \n",
       "75%    8.038688e+07  \n",
       "max    1.647624e+08  "
      ]
     },
     "execution_count": 363,
     "metadata": {},
     "output_type": "execute_result"
    }
   ],
   "source": [
    "data.describe()"
   ]
  },
  {
   "cell_type": "code",
   "execution_count": 364,
   "id": "707952f9",
   "metadata": {},
   "outputs": [],
   "source": [
    "import plotly.express as px\n",
    "import plotly.graph_objects as go"
   ]
  },
  {
   "cell_type": "markdown",
   "id": "18f405ec",
   "metadata": {},
   "source": [
    "chart = px.area(data.AAPL , title = 'APPLE SHARE PRICE')"
   ]
  },
  {
   "cell_type": "code",
   "execution_count": 365,
   "id": "2e803965",
   "metadata": {},
   "outputs": [],
   "source": [
    "aapl = data.reset_index()['Close']"
   ]
  },
  {
   "cell_type": "code",
   "execution_count": 366,
   "id": "2e53d92a",
   "metadata": {},
   "outputs": [
    {
     "data": {
      "text/plain": [
       "0      156.899994\n",
       "1      153.720001\n",
       "2      152.740005\n",
       "3      150.429993\n",
       "4      150.770004\n",
       "          ...    \n",
       "245    176.300003\n",
       "246    174.210007\n",
       "247    175.740005\n",
       "248    175.009995\n",
       "249    177.970001\n",
       "Name: Close, Length: 250, dtype: float64"
      ]
     },
     "execution_count": 366,
     "metadata": {},
     "output_type": "execute_result"
    }
   ],
   "source": [
    "aapl"
   ]
  },
  {
   "cell_type": "code",
   "execution_count": 367,
   "id": "9751f388",
   "metadata": {},
   "outputs": [
    {
     "data": {
      "image/png": "[encoded data removed]",
      "text/plain": [
       "<Figure size 640x480 with 1 Axes>"
      ]
     },
     "metadata": {},
     "output_type": "display_data"
    }
   ],
   "source": [
    "fig , ax = plt.subplots()\n",
    "ax.plot(data.index , data['Close'] , label ='AAPLE STOCK PRICE in USD ($)')\n",
    "ax.xaxis.set_major_formatter(mdates.DateFormatter('%Y-%m-%d'))\n",
    "ax.xaxis.set_major_locator(mdates.MonthLocator(interval=1))\n",
    "\n",
    "plt.xticks(rotation=45)\n",
    "ax.set_xlabel('Date')\n",
    "ax.set_ylabel('Price (USD)')\n",
    "ax.set_title('APPLE Stock Price')\n",
    "ax.legend()\n",
    "\n",
    "# Show the plot\n",
    "plt.tight_layout()\n",
    "plt.show()"
   ]
  },
  {
   "cell_type": "code",
   "execution_count": 368,
   "id": "6ec1e270",
   "metadata": {},
   "outputs": [],
   "source": [
    "from sklearn.preprocessing import MinMaxScaler\n",
    "scaler = MinMaxScaler(feature_range=(0,1))\n",
    "aapl = scaler.fit_transform(np.array(aapl).reshape(-1,1))"
   ]
  },
  {
   "cell_type": "code",
   "execution_count": 369,
   "id": "87eb2274",
   "metadata": {},
   "outputs": [
    {
     "data": {
      "text/plain": [
       "(250, 1)"
      ]
     },
     "execution_count": 369,
     "metadata": {},
     "output_type": "execute_result"
    }
   ],
   "source": [
    "aapl.shape"
   ]
  },
  {
   "cell_type": "code",
   "execution_count": 370,
   "id": "35bdb07e",
   "metadata": {},
   "outputs": [],
   "source": [
    "training_size=int(len(aapl)*0.7)\n",
    "test_size = len(aapl)-training_size\n",
    "train_data , test_data = aapl[0:training_size,:] , aapl[training_size:len(aapl),:1]\n"
   ]
  },
  {
   "cell_type": "code",
   "execution_count": 371,
   "id": "56644e8a",
   "metadata": {},
   "outputs": [
    {
     "data": {
      "text/plain": [
       "(175, 1)"
      ]
     },
     "execution_count": 371,
     "metadata": {},
     "output_type": "execute_result"
    }
   ],
   "source": [
    "train_data.shape  #training data is 70% of total data , i,e. 251 * 70% = 175"
   ]
  },
  {
   "cell_type": "code",
   "execution_count": 372,
   "id": "c46bb5f7",
   "metadata": {},
   "outputs": [
    {
     "data": {
      "text/plain": [
       "(75, 1)"
      ]
     },
     "execution_count": 372,
     "metadata": {},
     "output_type": "execute_result"
    }
   ],
   "source": [
    "test_data.shape   #30% is test_data out of 251 total"
   ]
  },
  {
   "cell_type": "code",
   "execution_count": 373,
   "id": "6168be57",
   "metadata": {},
   "outputs": [],
   "source": [
    "X_train = []\n",
    "Y_train = []\n",
    "for i in range(30,250):\n",
    "    X_train.append(aapl[i-30:i, 0])\n",
    "    Y_train.append(aapl[i,0])\n",
    "X_train , Y_train = np.array(X_train)  , np.array(Y_train)"
   ]
  },
  {
   "cell_type": "code",
   "execution_count": 374,
   "id": "8e848fe6",
   "metadata": {},
   "outputs": [
    {
     "data": {
      "text/plain": [
       "(220, 30)"
      ]
     },
     "execution_count": 374,
     "metadata": {},
     "output_type": "execute_result"
    }
   ],
   "source": [
    "X_train.shape "
   ]
  },
  {
   "cell_type": "code",
   "execution_count": 375,
   "id": "b8b362ad",
   "metadata": {},
   "outputs": [
    {
     "data": {
      "text/plain": [
       "(220,)"
      ]
     },
     "execution_count": 375,
     "metadata": {},
     "output_type": "execute_result"
    }
   ],
   "source": [
    "Y_train.shape"
   ]
  },
  {
   "cell_type": "code",
   "execution_count": 376,
   "id": "d36ee307",
   "metadata": {},
   "outputs": [
    {
     "data": {
      "text/plain": [
       "(220, 30, 1)"
      ]
     },
     "execution_count": 376,
     "metadata": {},
     "output_type": "execute_result"
    }
   ],
   "source": [
    "#RESHAPE THE DATA\n",
    "X_train = np.reshape(X_train,(X_train.shape[0] , X_train.shape[1], 1))\n",
    "X_train.shape\n"
   ]
  },
  {
   "cell_type": "code",
   "execution_count": 377,
   "id": "51f706eb",
   "metadata": {},
   "outputs": [],
   "source": [
    "#Create a new array for test data\n",
    "\n",
    "\n",
    "x_test = []\n",
    "y_test = aapl[training_size : , :]\n",
    "for i in range(30,len(test_data)):\n",
    "    x_test.append(test_data[i-30:i,0])\n",
    "    \n",
    "x_test = np.array(x_test)\n",
    "\n",
    "#reshape the data\n",
    "x_test = np.reshape(x_test , (x_test.shape[0] , x_test.shape[1] , 1))\n"
   ]
  },
  {
   "cell_type": "code",
   "execution_count": 378,
   "id": "d47530e2",
   "metadata": {},
   "outputs": [],
   "source": [
    "test_data = aapl[training_size - 30 : , :]\n",
    "x_test = []\n",
    "y_test = aapl[training_size : , :]\n",
    "for i in range(30,len(test_data)):\n",
    "    x_test.append(test_data[i-30:i , 0])\n",
    "    \n",
    "x_test = np.array(x_test)\n",
    "x_test = np.reshape(x_test , (x_test.shape[0] , x_test.shape[1] , 1))"
   ]
  },
  {
   "cell_type": "code",
   "execution_count": 379,
   "id": "907ab953",
   "metadata": {},
   "outputs": [],
   "source": [
    "#Building Keras Model and adding Different layers of LSTM"
   ]
  },
  {
   "cell_type": "code",
   "execution_count": 380,
   "id": "10dccb39",
   "metadata": {},
   "outputs": [],
   "source": [
    "from keras.models import Sequential\n",
    "from keras.layers import LSTM\n",
    "from keras.layers import Dense\n",
    "from keras.layers import Dropout"
   ]
  },
  {
   "cell_type": "code",
   "execution_count": 381,
   "id": "49e58df2",
   "metadata": {},
   "outputs": [],
   "source": [
    "model = Sequential()\n",
    "model.add(LSTM(30, return_sequences = True , input_shape=(30 , 1)))   #input_shape value is X_train.shape value\n",
    "model.add(LSTM(30 , return_sequences= True))\n",
    "model.add(LSTM(30))\n",
    "model.add(Dense(1))"
   ]
  },
  {
   "cell_type": "code",
   "execution_count": 382,
   "id": "9b7c7355",
   "metadata": {},
   "outputs": [],
   "source": [
    "model.compile(loss='mean_squared_error' , optimizer = 'adam')"
   ]
  },
  {
   "cell_type": "code",
   "execution_count": 383,
   "id": "91c81881",
   "metadata": {},
   "outputs": [
    {
     "name": "stdout",
     "output_type": "stream",
     "text": [
      "Model: \"sequential_12\"\n",
      "_________________________________________________________________\n",
      " Layer (type)                Output Shape              Param #   \n",
      "=================================================================\n",
      " lstm_31 (LSTM)              (None, 30, 30)            3840      \n",
      "                                                                 \n",
      " lstm_32 (LSTM)              (None, 30, 30)            7320      \n",
      "                                                                 \n",
      " lstm_33 (LSTM)              (None, 30)                7320      \n",
      "                                                                 \n",
      " dense_9 (Dense)             (None, 1)                 31        \n",
      "                                                                 \n",
      "=================================================================\n",
      "Total params: 18511 (72.31 KB)\n",
      "Trainable params: 18511 (72.31 KB)\n",
      "Non-trainable params: 0 (0.00 Byte)\n",
      "_________________________________________________________________\n"
     ]
    }
   ],
   "source": [
    "model.summary()"
   ]
  },
  {
   "cell_type": "code",
   "execution_count": 384,
   "id": "6a23c314",
   "metadata": {},
   "outputs": [
    {
     "name": "stdout",
     "output_type": "stream",
     "text": [
      "Epoch 1/100\n",
      "7/7 [==============================] - 2s 74ms/step - loss: 0.2649 - val_loss: 0.2449\n",
      "Epoch 2/100\n",
      "7/7 [==============================] - 0s 14ms/step - loss: 0.0483 - val_loss: 0.0407\n",
      "Epoch 3/100\n",
      "7/7 [==============================] - 0s 14ms/step - loss: 0.0372 - val_loss: 0.0279\n",
      "Epoch 4/100\n",
      "7/7 [==============================] - 0s 15ms/step - loss: 0.0249 - val_loss: 0.0428\n",
      "Epoch 5/100\n",
      "7/7 [==============================] - 0s 15ms/step - loss: 0.0186 - val_loss: 0.0094\n",
      "Epoch 6/100\n",
      "7/7 [==============================] - 0s 15ms/step - loss: 0.0151 - val_loss: 0.0105\n",
      "Epoch 7/100\n",
      "7/7 [==============================] - 0s 15ms/step - loss: 0.0124 - val_loss: 0.0136\n",
      "Epoch 8/100\n",
      "7/7 [==============================] - 0s 15ms/step - loss: 0.0113 - val_loss: 0.0110\n",
      "Epoch 9/100\n",
      "7/7 [==============================] - 0s 15ms/step - loss: 0.0103 - val_loss: 0.0107\n",
      "Epoch 10/100\n",
      "7/7 [==============================] - 0s 15ms/step - loss: 0.0104 - val_loss: 0.0104\n",
      "Epoch 11/100\n",
      "7/7 [==============================] - 0s 14ms/step - loss: 0.0097 - val_loss: 0.0101\n",
      "Epoch 12/100\n",
      "7/7 [==============================] - 0s 15ms/step - loss: 0.0096 - val_loss: 0.0100\n",
      "Epoch 13/100\n",
      "7/7 [==============================] - 0s 15ms/step - loss: 0.0096 - val_loss: 0.0098\n",
      "Epoch 14/100\n",
      "7/7 [==============================] - 0s 14ms/step - loss: 0.0094 - val_loss: 0.0097\n",
      "Epoch 15/100\n",
      "7/7 [==============================] - 0s 14ms/step - loss: 0.0098 - val_loss: 0.0095\n",
      "Epoch 16/100\n",
      "7/7 [==============================] - 0s 14ms/step - loss: 0.0096 - val_loss: 0.0095\n",
      "Epoch 17/100\n",
      "7/7 [==============================] - 0s 14ms/step - loss: 0.0092 - val_loss: 0.0093\n",
      "Epoch 18/100\n",
      "7/7 [==============================] - 0s 14ms/step - loss: 0.0089 - val_loss: 0.0096\n",
      "Epoch 19/100\n",
      "7/7 [==============================] - 0s 15ms/step - loss: 0.0089 - val_loss: 0.0092\n",
      "Epoch 20/100\n",
      "7/7 [==============================] - 0s 14ms/step - loss: 0.0091 - val_loss: 0.0089\n",
      "Epoch 21/100\n",
      "7/7 [==============================] - 0s 15ms/step - loss: 0.0087 - val_loss: 0.0087\n",
      "Epoch 22/100\n",
      "7/7 [==============================] - 0s 15ms/step - loss: 0.0084 - val_loss: 0.0086\n",
      "Epoch 23/100\n",
      "7/7 [==============================] - 0s 15ms/step - loss: 0.0083 - val_loss: 0.0086\n",
      "Epoch 24/100\n",
      "7/7 [==============================] - 0s 15ms/step - loss: 0.0081 - val_loss: 0.0084\n",
      "Epoch 25/100\n",
      "7/7 [==============================] - 0s 15ms/step - loss: 0.0084 - val_loss: 0.0085\n",
      "Epoch 26/100\n",
      "7/7 [==============================] - 0s 15ms/step - loss: 0.0081 - val_loss: 0.0081\n",
      "Epoch 27/100\n",
      "7/7 [==============================] - 0s 15ms/step - loss: 0.0078 - val_loss: 0.0082\n",
      "Epoch 28/100\n",
      "7/7 [==============================] - 0s 15ms/step - loss: 0.0077 - val_loss: 0.0084\n",
      "Epoch 29/100\n",
      "7/7 [==============================] - 0s 15ms/step - loss: 0.0080 - val_loss: 0.0086\n",
      "Epoch 30/100\n",
      "7/7 [==============================] - 0s 15ms/step - loss: 0.0080 - val_loss: 0.0076\n",
      "Epoch 31/100\n",
      "7/7 [==============================] - 0s 15ms/step - loss: 0.0077 - val_loss: 0.0081\n",
      "Epoch 32/100\n",
      "7/7 [==============================] - 0s 15ms/step - loss: 0.0074 - val_loss: 0.0074\n",
      "Epoch 33/100\n",
      "7/7 [==============================] - 0s 15ms/step - loss: 0.0070 - val_loss: 0.0076\n",
      "Epoch 34/100\n",
      "7/7 [==============================] - 0s 15ms/step - loss: 0.0070 - val_loss: 0.0072\n",
      "Epoch 35/100\n",
      "7/7 [==============================] - 0s 15ms/step - loss: 0.0069 - val_loss: 0.0073\n",
      "Epoch 36/100\n",
      "7/7 [==============================] - 0s 15ms/step - loss: 0.0068 - val_loss: 0.0079\n",
      "Epoch 37/100\n",
      "7/7 [==============================] - 0s 14ms/step - loss: 0.0073 - val_loss: 0.0069\n",
      "Epoch 38/100\n",
      "7/7 [==============================] - 0s 15ms/step - loss: 0.0065 - val_loss: 0.0069\n",
      "Epoch 39/100\n",
      "7/7 [==============================] - 0s 14ms/step - loss: 0.0068 - val_loss: 0.0086\n",
      "Epoch 40/100\n",
      "7/7 [==============================] - 0s 14ms/step - loss: 0.0067 - val_loss: 0.0072\n",
      "Epoch 41/100\n",
      "7/7 [==============================] - 0s 14ms/step - loss: 0.0068 - val_loss: 0.0088\n",
      "Epoch 42/100\n",
      "7/7 [==============================] - 0s 14ms/step - loss: 0.0069 - val_loss: 0.0067\n",
      "Epoch 43/100\n",
      "7/7 [==============================] - 0s 15ms/step - loss: 0.0063 - val_loss: 0.0065\n",
      "Epoch 44/100\n",
      "7/7 [==============================] - 0s 14ms/step - loss: 0.0061 - val_loss: 0.0071\n",
      "Epoch 45/100\n",
      "7/7 [==============================] - 0s 14ms/step - loss: 0.0062 - val_loss: 0.0062\n",
      "Epoch 46/100\n",
      "7/7 [==============================] - 0s 14ms/step - loss: 0.0060 - val_loss: 0.0061\n",
      "Epoch 47/100\n",
      "7/7 [==============================] - 0s 14ms/step - loss: 0.0059 - val_loss: 0.0076\n",
      "Epoch 48/100\n",
      "7/7 [==============================] - 0s 15ms/step - loss: 0.0062 - val_loss: 0.0059\n",
      "Epoch 49/100\n",
      "7/7 [==============================] - 0s 14ms/step - loss: 0.0057 - val_loss: 0.0059\n",
      "Epoch 50/100\n",
      "7/7 [==============================] - 0s 15ms/step - loss: 0.0058 - val_loss: 0.0067\n",
      "Epoch 51/100\n",
      "7/7 [==============================] - 0s 15ms/step - loss: 0.0058 - val_loss: 0.0058\n",
      "Epoch 52/100\n",
      "7/7 [==============================] - 0s 15ms/step - loss: 0.0054 - val_loss: 0.0063\n",
      "Epoch 53/100\n",
      "7/7 [==============================] - 0s 15ms/step - loss: 0.0054 - val_loss: 0.0077\n",
      "Epoch 54/100\n",
      "7/7 [==============================] - 0s 15ms/step - loss: 0.0053 - val_loss: 0.0085\n",
      "Epoch 55/100\n",
      "7/7 [==============================] - 0s 15ms/step - loss: 0.0064 - val_loss: 0.0055\n",
      "Epoch 56/100\n",
      "7/7 [==============================] - 0s 15ms/step - loss: 0.0058 - val_loss: 0.0082\n",
      "Epoch 57/100\n",
      "7/7 [==============================] - 0s 16ms/step - loss: 0.0057 - val_loss: 0.0070\n",
      "Epoch 58/100\n",
      "7/7 [==============================] - 0s 15ms/step - loss: 0.0051 - val_loss: 0.0055\n",
      "Epoch 59/100\n",
      "7/7 [==============================] - 0s 15ms/step - loss: 0.0050 - val_loss: 0.0051\n",
      "Epoch 60/100\n",
      "7/7 [==============================] - 0s 15ms/step - loss: 0.0048 - val_loss: 0.0050\n",
      "Epoch 61/100\n",
      "7/7 [==============================] - 0s 15ms/step - loss: 0.0048 - val_loss: 0.0050\n",
      "Epoch 62/100\n",
      "7/7 [==============================] - 0s 15ms/step - loss: 0.0049 - val_loss: 0.0048\n",
      "Epoch 63/100\n",
      "7/7 [==============================] - 0s 14ms/step - loss: 0.0048 - val_loss: 0.0051\n",
      "Epoch 64/100\n",
      "7/7 [==============================] - 0s 14ms/step - loss: 0.0048 - val_loss: 0.0050\n",
      "Epoch 65/100\n",
      "7/7 [==============================] - 0s 14ms/step - loss: 0.0047 - val_loss: 0.0049\n",
      "Epoch 66/100\n",
      "7/7 [==============================] - 0s 14ms/step - loss: 0.0045 - val_loss: 0.0050\n",
      "Epoch 67/100\n",
      "7/7 [==============================] - 0s 14ms/step - loss: 0.0049 - val_loss: 0.0053\n",
      "Epoch 68/100\n",
      "7/7 [==============================] - 0s 14ms/step - loss: 0.0045 - val_loss: 0.0047\n",
      "Epoch 69/100\n",
      "7/7 [==============================] - 0s 14ms/step - loss: 0.0044 - val_loss: 0.0049\n",
      "Epoch 70/100\n",
      "7/7 [==============================] - 0s 15ms/step - loss: 0.0050 - val_loss: 0.0047\n",
      "Epoch 71/100\n",
      "7/7 [==============================] - 0s 14ms/step - loss: 0.0043 - val_loss: 0.0045\n",
      "Epoch 72/100\n",
      "7/7 [==============================] - 0s 14ms/step - loss: 0.0044 - val_loss: 0.0049\n",
      "Epoch 73/100\n",
      "7/7 [==============================] - 0s 14ms/step - loss: 0.0043 - val_loss: 0.0044\n",
      "Epoch 74/100\n",
      "7/7 [==============================] - 0s 15ms/step - loss: 0.0041 - val_loss: 0.0046\n",
      "Epoch 75/100\n",
      "7/7 [==============================] - 0s 15ms/step - loss: 0.0043 - val_loss: 0.0044\n",
      "Epoch 76/100\n",
      "7/7 [==============================] - 0s 15ms/step - loss: 0.0041 - val_loss: 0.0046\n",
      "Epoch 77/100\n",
      "7/7 [==============================] - 0s 14ms/step - loss: 0.0043 - val_loss: 0.0050\n",
      "Epoch 78/100\n",
      "7/7 [==============================] - 0s 15ms/step - loss: 0.0046 - val_loss: 0.0055\n",
      "Epoch 79/100\n",
      "7/7 [==============================] - 0s 15ms/step - loss: 0.0045 - val_loss: 0.0045\n",
      "Epoch 80/100\n",
      "7/7 [==============================] - 0s 14ms/step - loss: 0.0040 - val_loss: 0.0043\n",
      "Epoch 81/100\n",
      "7/7 [==============================] - 0s 15ms/step - loss: 0.0040 - val_loss: 0.0044\n",
      "Epoch 82/100\n",
      "7/7 [==============================] - 0s 15ms/step - loss: 0.0042 - val_loss: 0.0045\n",
      "Epoch 83/100\n",
      "7/7 [==============================] - 0s 15ms/step - loss: 0.0041 - val_loss: 0.0044\n"
     ]
    },
    {
     "name": "stdout",
     "output_type": "stream",
     "text": [
      "Epoch 84/100\n",
      "7/7 [==============================] - 0s 15ms/step - loss: 0.0041 - val_loss: 0.0041\n",
      "Epoch 85/100\n",
      "7/7 [==============================] - 0s 14ms/step - loss: 0.0039 - val_loss: 0.0046\n",
      "Epoch 86/100\n",
      "7/7 [==============================] - 0s 14ms/step - loss: 0.0040 - val_loss: 0.0041\n",
      "Epoch 87/100\n",
      "7/7 [==============================] - 0s 15ms/step - loss: 0.0041 - val_loss: 0.0049\n",
      "Epoch 88/100\n",
      "7/7 [==============================] - 0s 15ms/step - loss: 0.0043 - val_loss: 0.0042\n",
      "Epoch 89/100\n",
      "7/7 [==============================] - 0s 15ms/step - loss: 0.0042 - val_loss: 0.0043\n",
      "Epoch 90/100\n",
      "7/7 [==============================] - 0s 15ms/step - loss: 0.0040 - val_loss: 0.0042\n",
      "Epoch 91/100\n",
      "7/7 [==============================] - 0s 15ms/step - loss: 0.0040 - val_loss: 0.0039\n",
      "Epoch 92/100\n",
      "7/7 [==============================] - 0s 14ms/step - loss: 0.0038 - val_loss: 0.0038\n",
      "Epoch 93/100\n",
      "7/7 [==============================] - 0s 15ms/step - loss: 0.0039 - val_loss: 0.0049\n",
      "Epoch 94/100\n",
      "7/7 [==============================] - 0s 14ms/step - loss: 0.0040 - val_loss: 0.0038\n",
      "Epoch 95/100\n",
      "7/7 [==============================] - 0s 15ms/step - loss: 0.0036 - val_loss: 0.0038\n",
      "Epoch 96/100\n",
      "7/7 [==============================] - 0s 15ms/step - loss: 0.0038 - val_loss: 0.0038\n",
      "Epoch 97/100\n",
      "7/7 [==============================] - 0s 14ms/step - loss: 0.0042 - val_loss: 0.0041\n",
      "Epoch 98/100\n",
      "7/7 [==============================] - 0s 14ms/step - loss: 0.0037 - val_loss: 0.0041\n",
      "Epoch 99/100\n",
      "7/7 [==============================] - 0s 14ms/step - loss: 0.0037 - val_loss: 0.0037\n",
      "Epoch 100/100\n",
      "7/7 [==============================] - 0s 15ms/step - loss: 0.0036 - val_loss: 0.0036\n"
     ]
    },
    {
     "data": {
      "text/plain": [
       "<keras.src.callbacks.History at 0x2dc55a650>"
      ]
     },
     "execution_count": 384,
     "metadata": {},
     "output_type": "execute_result"
    }
   ],
   "source": [
    "model.fit(X_train , Y_train , validation_data=(x_test , y_test), epochs = 100 , batch_size = 32 , verbose = 1)"
   ]
  },
  {
   "cell_type": "code",
   "execution_count": 385,
   "id": "dfd5cbb8",
   "metadata": {},
   "outputs": [
    {
     "name": "stdout",
     "output_type": "stream",
     "text": [
      "7/7 [==============================] - 1s 3ms/step\n",
      "3/3 [==============================] - 0s 2ms/step\n"
     ]
    }
   ],
   "source": [
    "#get models predicted price values\n",
    "train_predict = model.predict(X_train)\n",
    "\n",
    "predictions = model.predict(x_test)\n",
    "\n",
    "train_predict = scaler.inverse_transform(train_predict)\n",
    "predictions = scaler.inverse_transform(predictions)"
   ]
  },
  {
   "cell_type": "code",
   "execution_count": 386,
   "id": "d492bace",
   "metadata": {},
   "outputs": [
    {
     "data": {
      "text/plain": [
       "163.48341623848702"
      ]
     },
     "execution_count": 386,
     "metadata": {},
     "output_type": "execute_result"
    }
   ],
   "source": [
    "import math\n",
    "from sklearn.metrics import mean_squared_error\n",
    "math.sqrt(mean_squared_error(Y_train , train_predict))"
   ]
  },
  {
   "cell_type": "code",
   "execution_count": 387,
   "id": "5382d4d2",
   "metadata": {},
   "outputs": [
    {
     "data": {
      "text/plain": [
       "183.6674815898705"
      ]
     },
     "execution_count": 387,
     "metadata": {},
     "output_type": "execute_result"
    }
   ],
   "source": [
    "math.sqrt(mean_squared_error(y_test , predictions))"
   ]
  },
  {
   "cell_type": "code",
   "execution_count": 388,
   "id": "aa76cc03",
   "metadata": {
    "scrolled": true
   },
   "outputs": [
    {
     "name": "stderr",
     "output_type": "stream",
     "text": [
      "/var/folders/6r/l476phk96wl9m4s89jf19zw80000gn/T/ipykernel_1195/3024565503.py:4: SettingWithCopyWarning:\n",
      "\n",
      "\n",
      "A value is trying to be set on a copy of a slice from a DataFrame.\n",
      "Try using .loc[row_indexer,col_indexer] = value instead\n",
      "\n",
      "See the caveats in the documentation: https://pandas.pydata.org/pandas-docs/stable/user_guide/indexing.html#returning-a-view-versus-a-copy\n",
      "\n"
     ]
    },
    {
     "data": {
      "image/png": "[encoded data removed]",
      "text/plain": [
       "<Figure size 2000x800 with 1 Axes>"
      ]
     },
     "metadata": {},
     "output_type": "display_data"
    }
   ],
   "source": [
    "#plotting the  predicted values\n",
    "train = data[:training_size]\n",
    "valid = data[training_size : ]\n",
    "valid['Predictions'] = predictions\n",
    "\n",
    "plt.figure(figsize = (20,8))\n",
    "plt.title('Prediction on AAPLE Shares')\n",
    "plt.xlabel('Date' , fontsize = 18)\n",
    "plt.ylabel('Close Price USD($)' , fontsize = 18)\n",
    "plt.plot(train['Close'])\n",
    "plt.plot(valid[['Close', 'Predictions']])\n",
    "plt.legend(['Train' , 'Valid' , 'Preditions'], loc='lower right')\n",
    "\n",
    "plt.show()"
   ]
  },
  {
   "cell_type": "code",
   "execution_count": 389,
   "id": "ca6a5aa6",
   "metadata": {},
   "outputs": [
    {
     "data": {
      "text/html": [
       "<div>\n",
       "<style scoped>\n",
       "    .dataframe tbody tr th:only-of-type {\n",
       "        vertical-align: middle;\n",
       "    }\n",
       "\n",
       "    .dataframe tbody tr th {\n",
       "        vertical-align: top;\n",
       "    }\n",
       "\n",
       "    .dataframe thead th {\n",
       "        text-align: right;\n",
       "    }\n",
       "</style>\n",
       "<table border=\"1\" class=\"dataframe\">\n",
       "  <thead>\n",
       "    <tr style=\"text-align: right;\">\n",
       "      <th></th>\n",
       "      <th>Open</th>\n",
       "      <th>High</th>\n",
       "      <th>Low</th>\n",
       "      <th>Close</th>\n",
       "      <th>Adj Close</th>\n",
       "      <th>Volume</th>\n",
       "      <th>Predictions</th>\n",
       "    </tr>\n",
       "    <tr>\n",
       "      <th>Date</th>\n",
       "      <th></th>\n",
       "      <th></th>\n",
       "      <th></th>\n",
       "      <th></th>\n",
       "      <th></th>\n",
       "      <th></th>\n",
       "      <th></th>\n",
       "    </tr>\n",
       "  </thead>\n",
       "  <tbody>\n",
       "    <tr>\n",
       "      <th>2023-06-01</th>\n",
       "      <td>177.699997</td>\n",
       "      <td>180.119995</td>\n",
       "      <td>176.929993</td>\n",
       "      <td>180.089996</td>\n",
       "      <td>179.847137</td>\n",
       "      <td>68901800</td>\n",
       "      <td>176.663559</td>\n",
       "    </tr>\n",
       "    <tr>\n",
       "      <th>2023-06-02</th>\n",
       "      <td>181.029999</td>\n",
       "      <td>181.779999</td>\n",
       "      <td>179.259995</td>\n",
       "      <td>180.949997</td>\n",
       "      <td>180.705978</td>\n",
       "      <td>61945900</td>\n",
       "      <td>177.597809</td>\n",
       "    </tr>\n",
       "    <tr>\n",
       "      <th>2023-06-05</th>\n",
       "      <td>182.630005</td>\n",
       "      <td>184.949997</td>\n",
       "      <td>178.039993</td>\n",
       "      <td>179.580002</td>\n",
       "      <td>179.337830</td>\n",
       "      <td>121946500</td>\n",
       "      <td>178.740189</td>\n",
       "    </tr>\n",
       "    <tr>\n",
       "      <th>2023-06-06</th>\n",
       "      <td>179.970001</td>\n",
       "      <td>180.119995</td>\n",
       "      <td>177.429993</td>\n",
       "      <td>179.210007</td>\n",
       "      <td>178.968338</td>\n",
       "      <td>64848400</td>\n",
       "      <td>179.799271</td>\n",
       "    </tr>\n",
       "    <tr>\n",
       "      <th>2023-06-07</th>\n",
       "      <td>178.440002</td>\n",
       "      <td>181.210007</td>\n",
       "      <td>177.320007</td>\n",
       "      <td>177.820007</td>\n",
       "      <td>177.580200</td>\n",
       "      <td>61944600</td>\n",
       "      <td>180.619720</td>\n",
       "    </tr>\n",
       "    <tr>\n",
       "      <th>...</th>\n",
       "      <td>...</td>\n",
       "      <td>...</td>\n",
       "      <td>...</td>\n",
       "      <td>...</td>\n",
       "      <td>...</td>\n",
       "      <td>...</td>\n",
       "      <td>...</td>\n",
       "    </tr>\n",
       "    <tr>\n",
       "      <th>2023-09-12</th>\n",
       "      <td>179.490005</td>\n",
       "      <td>180.130005</td>\n",
       "      <td>174.820007</td>\n",
       "      <td>176.300003</td>\n",
       "      <td>176.300003</td>\n",
       "      <td>90370200</td>\n",
       "      <td>184.442886</td>\n",
       "    </tr>\n",
       "    <tr>\n",
       "      <th>2023-09-13</th>\n",
       "      <td>176.509995</td>\n",
       "      <td>177.300003</td>\n",
       "      <td>173.979996</td>\n",
       "      <td>174.210007</td>\n",
       "      <td>174.210007</td>\n",
       "      <td>84267900</td>\n",
       "      <td>182.761124</td>\n",
       "    </tr>\n",
       "    <tr>\n",
       "      <th>2023-09-14</th>\n",
       "      <td>174.000000</td>\n",
       "      <td>176.100006</td>\n",
       "      <td>173.580002</td>\n",
       "      <td>175.740005</td>\n",
       "      <td>175.740005</td>\n",
       "      <td>60895800</td>\n",
       "      <td>181.016663</td>\n",
       "    </tr>\n",
       "    <tr>\n",
       "      <th>2023-09-15</th>\n",
       "      <td>176.479996</td>\n",
       "      <td>176.500000</td>\n",
       "      <td>173.820007</td>\n",
       "      <td>175.009995</td>\n",
       "      <td>175.009995</td>\n",
       "      <td>109205100</td>\n",
       "      <td>179.547073</td>\n",
       "    </tr>\n",
       "    <tr>\n",
       "      <th>2023-09-18</th>\n",
       "      <td>176.479996</td>\n",
       "      <td>179.380005</td>\n",
       "      <td>176.169998</td>\n",
       "      <td>177.970001</td>\n",
       "      <td>177.970001</td>\n",
       "      <td>67257600</td>\n",
       "      <td>178.407349</td>\n",
       "    </tr>\n",
       "  </tbody>\n",
       "</table>\n",
       "<p>75 rows × 7 columns</p>\n",
       "</div>"
      ],
      "text/plain": [
       "                  Open        High         Low       Close   Adj Close  \\\n",
       "Date                                                                     \n",
       "2023-06-01  177.699997  180.119995  176.929993  180.089996  179.847137   \n",
       "2023-06-02  181.029999  181.779999  179.259995  180.949997  180.705978   \n",
       "2023-06-05  182.630005  184.949997  178.039993  179.580002  179.337830   \n",
       "2023-06-06  179.970001  180.119995  177.429993  179.210007  178.968338   \n",
       "2023-06-07  178.440002  181.210007  177.320007  177.820007  177.580200   \n",
       "...                ...         ...         ...         ...         ...   \n",
       "2023-09-12  179.490005  180.130005  174.820007  176.300003  176.300003   \n",
       "2023-09-13  176.509995  177.300003  173.979996  174.210007  174.210007   \n",
       "2023-09-14  174.000000  176.100006  173.580002  175.740005  175.740005   \n",
       "2023-09-15  176.479996  176.500000  173.820007  175.009995  175.009995   \n",
       "2023-09-18  176.479996  179.380005  176.169998  177.970001  177.970001   \n",
       "\n",
       "               Volume  Predictions  \n",
       "Date                                \n",
       "2023-06-01   68901800   176.663559  \n",
       "2023-06-02   61945900   177.597809  \n",
       "2023-06-05  121946500   178.740189  \n",
       "2023-06-06   64848400   179.799271  \n",
       "2023-06-07   61944600   180.619720  \n",
       "...               ...          ...  \n",
       "2023-09-12   90370200   184.442886  \n",
       "2023-09-13   84267900   182.761124  \n",
       "2023-09-14   60895800   181.016663  \n",
       "2023-09-15  109205100   179.547073  \n",
       "2023-09-18   67257600   178.407349  \n",
       "\n",
       "[75 rows x 7 columns]"
      ]
     },
     "execution_count": 389,
     "metadata": {},
     "output_type": "execute_result"
    }
   ],
   "source": [
    "# predicited prices \n",
    "valid"
   ]
  },
  {
   "cell_type": "code",
   "execution_count": null,
   "id": "3af02d31",
   "metadata": {},
   "outputs": [],
   "source": []
  }
 ],
 "metadata": {
  "kernelspec": {
   "display_name": "Python 3 (ipykernel)",
   "language": "python",
   "name": "python3"
  },
  "language_info": {
   "codemirror_mode": {
    "name": "ipython",
    "version": 3
   },
   "file_extension": ".py",
   "mimetype": "text/x-python",
   "name": "python",
   "nbconvert_exporter": "python",
   "pygments_lexer": "ipython3",
   "version": "3.10.9"
  }
 },
 "nbformat": 4,
 "nbformat_minor": 5
}
